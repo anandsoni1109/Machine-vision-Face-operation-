{
 "cells": [
  {
   "cell_type": "code",
   "execution_count": null,
   "metadata": {},
   "outputs": [],
   "source": []
  },
  {
   "cell_type": "code",
   "execution_count": null,
   "metadata": {},
   "outputs": [],
   "source": []
  },
  {
   "cell_type": "code",
   "execution_count": null,
   "metadata": {},
   "outputs": [],
   "source": []
  },
  {
   "cell_type": "code",
   "execution_count": null,
   "metadata": {},
   "outputs": [],
   "source": []
  },
  {
   "cell_type": "code",
   "execution_count": null,
   "metadata": {},
   "outputs": [],
   "source": []
  },
  {
   "cell_type": "code",
   "execution_count": null,
   "metadata": {},
   "outputs": [],
   "source": []
  },
  {
   "cell_type": "code",
   "execution_count": null,
   "metadata": {},
   "outputs": [],
   "source": []
  },
  {
   "cell_type": "code",
   "execution_count": null,
   "metadata": {},
   "outputs": [],
   "source": []
  },
  {
   "cell_type": "code",
   "execution_count": null,
   "metadata": {},
   "outputs": [],
   "source": []
  },
  {
   "cell_type": "code",
   "execution_count": null,
   "metadata": {},
   "outputs": [],
   "source": []
  },
  {
   "cell_type": "code",
   "execution_count": null,
   "metadata": {},
   "outputs": [],
   "source": [
    "import requests\n",
    "import cv2      \n",
    "import numpy\n",
    "while True:\n",
    "    url='http://192.168.43.1:8080/shot.jpg'\n",
    "    data=requests.get(url)\n",
    "    data=data.content\n",
    "    a=bytearray(data)\n",
    "    array=numpy.array(a)\n",
    "    pic=cv2.imdecode(array, -1)\n",
    "    face_find = cv2.CascadeClassifier('/root/Downloads/haarcascade_frontalface_default.xml')\n",
    "    face_coor=face_find.detectMultiScale(pic)\n",
    "    x=[1]*50\n",
    "    y=[1]*50\n",
    "    w=[1]*50\n",
    "    h=[1]*50\n",
    "    i=0\n",
    "    if face_coor is ():\n",
    "        r_photo=pic\n",
    "    else:\n",
    "        while i<len(face_coor):\n",
    "            x[i]=face_coor[i][0]\n",
    "            y[i]=face_coor[i][1]\n",
    "            w[i]=face_coor[i][2]\n",
    "            h[i]=face_coor[i][3]\n",
    "            r_photo=cv2.rectangle(pic,(x[i],y[i]),(x[i]+w[i],y[i]+h[i]),(98,2,66),5)\n",
    "            i=i+1\n",
    "            \n",
    "    cv2.putText(r_photo, str(i), (50, 50), cv2.FONT_HERSHEY_COMPLEX, 1, (4,255,55), 2)\n",
    "    cv2.imshow('my',r_photo)\n",
    "    if cv2.waitKey(1) == 13:\n",
    "        break\n",
    "cv2.destroyAllWindows()\n",
    "    \n",
    "    "
   ]
  },
  {
   "cell_type": "code",
   "execution_count": null,
   "metadata": {},
   "outputs": [],
   "source": [
    "\n"
   ]
  },
  {
   "cell_type": "code",
   "execution_count": null,
   "metadata": {},
   "outputs": [],
   "source": []
  },
  {
   "cell_type": "code",
   "execution_count": null,
   "metadata": {},
   "outputs": [],
   "source": [
    "\n",
    "    "
   ]
  },
  {
   "cell_type": "code",
   "execution_count": null,
   "metadata": {},
   "outputs": [],
   "source": []
  },
  {
   "cell_type": "code",
   "execution_count": null,
   "metadata": {},
   "outputs": [],
   "source": []
  }
 ],
 "metadata": {
  "kernelspec": {
   "display_name": "Python 3",
   "language": "python",
   "name": "python3"
  },
  "language_info": {
   "codemirror_mode": {
    "name": "ipython",
    "version": 3
   },
   "file_extension": ".py",
   "mimetype": "text/x-python",
   "name": "python",
   "nbconvert_exporter": "python",
   "pygments_lexer": "ipython3",
   "version": "3.6.3"
  }
 },
 "nbformat": 4,
 "nbformat_minor": 2
}
